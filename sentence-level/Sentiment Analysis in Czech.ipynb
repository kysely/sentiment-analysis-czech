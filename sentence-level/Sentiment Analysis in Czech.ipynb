{
 "cells": [
  {
   "cell_type": "markdown",
   "metadata": {},
   "source": [
    "# Sentiment Analysis in Czech\n",
    "### Capstone Project for Machine Learning Nanodegree at Udacity\n",
    "\n",
    "- [Part 1: Loading the data and extracting samples](#Part-1:-Load-our-datasets-and-extract-one-sentence-samples)\n",
    "- [Part 2: Data preprocessing](#Part-2:-Preprocess-our-datasets)\n",
    "- [Part 3: Defining the neural network and benchmark](#Part-3:-Define-our-neural-network-and-benchmark-models)\n",
    "- [Part 4: Creating the individual models](#Part-4:-Create-the-individual-models-and-train)\n",
    "    - [Facebook Model](#Facebook-Model)\n",
    "    - [ČSFD Model](#ČSFD-Model)\n",
    "    - [MALL.CZ Model](#MALL.CZ-Model)\n",
    "    - [Combined Model](#Combined-Model)\n",
    "- [Part 5: Running tests with new sentences](#Part-5:-Running-tests-with-new-sentences)\n",
    "\n",
    "#### ⏱ NOTE:\n",
    "Some cells in Part 1 and 2 contain time-consuming tasks like data transformations. If you run the whole notebook at least once, their outputs will already be saved in this project subdirectories and you don't have to run them again in the future. These cells are marked with a stopwatch emoji ⏱ in the titles above them.\n",
    "\n",
    "---"
   ]
  },
  {
   "cell_type": "code",
   "execution_count": 1,
   "metadata": {
    "collapsed": true
   },
   "outputs": [],
   "source": [
    "%%capture\n",
    "import pandas as pd\n",
    "import numpy as np\n",
    "import subprocess\n",
    "import string\n",
    "import random\n",
    "import re\n",
    "from sklearn.model_selection import train_test_split\n",
    "from sklearn.metrics import f1_score\n",
    "from nltk.tokenize import sent_tokenize, word_tokenize\n",
    "from nltk.sentiment.util import SAD, HAPPY\n",
    "from lib.czech_stemmer import cz_stem\n",
    "\n",
    "import seaborn as sns\n",
    "import matplotlib.pyplot as plt\n",
    "import matplotlib\n",
    "%matplotlib inline"
   ]
  },
  {
   "cell_type": "markdown",
   "metadata": {},
   "source": [
    "#### Having problem with NLTK tokenizer? \n",
    "You might need to run `nltk.download()` and download `Punkt Tokenizer Models`. More information in [this SO thread](https://stackoverflow.com/a/10852888)."
   ]
  },
  {
   "cell_type": "markdown",
   "metadata": {},
   "source": [
    "---\n",
    "\n",
    "## Part 1: Load our datasets and extract one-sentence samples"
   ]
  },
  {
   "cell_type": "code",
   "execution_count": 2,
   "metadata": {
    "collapsed": true
   },
   "outputs": [],
   "source": [
    "labels = {'n':'NEG', '0':'NEU', 'p':'POS', 'b':'BIP'}\n",
    "target_labels = [labels['n'], labels['0'], labels['p']]\n",
    "max_sentence_length = 30 # no. of words\n",
    "\n",
    "def data_stats(data, dataset='Dataset', do_print=False):\n",
    "    '''\n",
    "    Returns basic statistics about a dataset.\n",
    "    \n",
    "    If the third argument is set to True, the function will\n",
    "    print out the stats instead.\n",
    "    '''\n",
    "    num_of_neg = len(data[data['Sentiment'] == labels['n']])\n",
    "    num_of_neu = len(data[data['Sentiment'] == labels['0']])\n",
    "    num_of_pos = len(data[data['Sentiment'] == labels['p']])\n",
    "    num_of_chars = np.mean( data['Post'].apply(lambda post: len(post)) )\n",
    "    \n",
    "    if do_print is True:\n",
    "        print(dataset)\n",
    "        print('{} positive, {} neutral and {} negative posts.'.format(num_of_pos, num_of_neu, num_of_neg))\n",
    "        print('Posts are on average {0:3.0f} characters long.'.format(num_of_chars))\n",
    "        print('='*65 + '\\n')\n",
    "        return None\n",
    "    \n",
    "    return (num_of_neg, num_of_neu, num_of_pos)\n",
    "\n",
    "\n",
    "\n",
    "def load_gold_data(directory, filter_out):\n",
    "    '''\n",
    "    Loads a dataset with separate contents and labels. Maps labels to our format.\n",
    "    Filters out any samples that have a label equal to the second argument.\n",
    "    \n",
    "    Returns a new DataFrame.\n",
    "    '''\n",
    "    return pd\\\n",
    "        .concat([\n",
    "            pd.read_csv('data/{}/gold-posts.txt'.format(directory), sep='\\n', header=None, names=['Post']),\n",
    "            pd.read_csv('data/{}/gold-labels.txt'.format(directory), sep=' ', header=None, names=['Sentiment']).iloc[:,0].map(labels)\n",
    "        ], axis=1)\\\n",
    "        .query('Sentiment != @filter_out')\\\n",
    "        .reset_index(drop=True)\n",
    "\n",
    "        \n",
    "\n",
    "def load_data(directory):\n",
    "    '''\n",
    "    Loads a dataset whose samples are split to individual files/per class.\n",
    "    \n",
    "    Returns a new DataFrame.\n",
    "    '''\n",
    "    return pd\\\n",
    "        .concat([\n",
    "            pd.read_csv('data/{}/positive.txt'.format(directory), sep='\\n', header=None, names=['Post']).assign(Sentiment=labels['p']),\n",
    "            pd.read_csv('data/{}/neutral.txt'.format(directory),  sep='\\n', header=None, names=['Post']).assign(Sentiment=labels['0']),\n",
    "            pd.read_csv('data/{}/negative.txt'.format(directory), sep='\\n', header=None, names=['Post']).assign(Sentiment=labels['n'])\n",
    "        ], axis=0)\\\n",
    "        .reset_index(drop=True)\n",
    "    "
   ]
  },
  {
   "cell_type": "markdown",
   "metadata": {},
   "source": [
    "### ⏱ Load the raw datasets"
   ]
  },
  {
   "cell_type": "code",
   "execution_count": 3,
   "metadata": {
    "scrolled": false
   },
   "outputs": [
    {
     "name": "stdout",
     "output_type": "stream",
     "text": [
      "Facebook CZ\n",
      "2587 positive, 5174 neutral and 1991 negative posts.\n",
      "Posts are on average  60 characters long.\n",
      "=================================================================\n",
      "\n",
      "ČSFD\n",
      "30852 positive, 30753 neutral and 29699 negative posts.\n",
      "Posts are on average 311 characters long.\n",
      "=================================================================\n",
      "\n",
      "MALL CZ\n",
      "102976 positive, 31943 neutral and 10387 negative posts.\n",
      "Posts are on average 122 characters long.\n",
      "=================================================================\n",
      "\n"
     ]
    }
   ],
   "source": [
    "# Load the Facebook CZ comments, map labels to nicer values and remove posts with bipolar sentiment.\n",
    "facebook_data_raw = load_gold_data('facebook', labels['b'])\n",
    "data_stats(facebook_data_raw, 'Facebook CZ', True)\n",
    "\n",
    "\n",
    "# Load the film reviews from ČSFD.\n",
    "csfd_data_raw = load_data('csfd')\n",
    "data_stats(csfd_data_raw, 'ČSFD', True)\n",
    "\n",
    "\n",
    "# Load the product reviews from MALL.\n",
    "mall_data_raw = load_data('mallcz')\n",
    "data_stats(mall_data_raw, 'MALL CZ', True)"
   ]
  },
  {
   "cell_type": "markdown",
   "metadata": {
    "collapsed": true
   },
   "source": [
    "### ⏱ Extract one-sentence posts subsets for each of the corpora"
   ]
  },
  {
   "cell_type": "code",
   "execution_count": 4,
   "metadata": {
    "scrolled": false
   },
   "outputs": [
    {
     "name": "stdout",
     "output_type": "stream",
     "text": [
      "ONE SENTENCE: Facebook CZ\n",
      "1968 positive, 3605 neutral and 1296 negative posts.\n",
      "Posts are on average  53 characters long.\n",
      "=================================================================\n",
      "\n",
      "ONE SENTENCE: ČSFD\n",
      "5039 positive, 6037 neutral and 8464 negative posts.\n",
      "Posts are on average  71 characters long.\n",
      "=================================================================\n",
      "\n",
      "ONE SENTENCE: MALL CZ\n",
      "56712 positive, 13959 neutral and 3682 negative posts.\n",
      "Posts are on average  53 characters long.\n",
      "=================================================================\n",
      "\n"
     ]
    }
   ],
   "source": [
    "def filter_one_sentence(data, max_sentence_length):\n",
    "    '''\n",
    "    Takes a dataset and filters out any post that is longer than one sentence.\n",
    "    Also filter out any sentences that are longer than `max_sentence_length`\n",
    "    \n",
    "    Returns a tuple (filtered DataFrame, original sentence counts Series).\n",
    "    '''\n",
    "    data_sentence_counts = data['Post'].apply( lambda post: len(sent_tokenize(post)) )\n",
    "    data_indices_multisentence = data_sentence_counts[data_sentence_counts > 1].index.values\n",
    "    data_onesentence = data.drop(data_indices_multisentence)\n",
    "    data_word_counts = data_onesentence['Post'].apply( lambda sen: len(word_tokenize(sen)) )\n",
    "    data_indices_longsentense = data_word_counts[data_word_counts > max_sentence_length].index.values\n",
    "    \n",
    "    return (data_onesentence.drop(data_indices_longsentense), data_sentence_counts)\n",
    "\n",
    "# Filter out any multi-sentence posts for Facebook CZ dataset\n",
    "facebook_data_onesentence, fb_s_counts = filter_one_sentence(facebook_data_raw, max_sentence_length)\n",
    "data_stats(facebook_data_onesentence, 'ONE SENTENCE: Facebook CZ', True)\n",
    "\n",
    "# Filter out any multi-sentence posts for ČSFD dataset\n",
    "csfd_data_onesentence, csfd_s_counts = filter_one_sentence(csfd_data_raw, max_sentence_length)\n",
    "data_stats(csfd_data_onesentence, 'ONE SENTENCE: ČSFD', True)\n",
    "\n",
    "# Filter out any multi-sentence posts for MALL CZ dataset\n",
    "mall_data_onesentence, mall_s_counts = filter_one_sentence(mall_data_raw, max_sentence_length)\n",
    "data_stats(mall_data_onesentence, 'ONE SENTENCE: MALL CZ', True)"
   ]
  },
  {
   "cell_type": "markdown",
   "metadata": {},
   "source": [
    "### ⏱ Plot the sentence counts in our raw data"
   ]
  },
  {
   "cell_type": "code",
   "execution_count": 5,
   "metadata": {},
   "outputs": [
    {
     "data": {
      "image/png": "[encoded data removed]",
      "text/plain": [
       "<matplotlib.figure.Figure at 0x117c60668>"
      ]
     },
     "metadata": {},
     "output_type": "display_data"
    }
   ],
   "source": [
    "sns.set_context(\"notebook\", font_scale=1.3, rc={\"lines.linewidth\": 2})\n",
    "\n",
    "fig = plt.figure(figsize=(18,8), dpi=72)\n",
    "subplots = []\n",
    "\n",
    "datasets_to_plot = [\n",
    "    (facebook_data_raw, fb_s_counts, 'Facebook'),\n",
    "    (csfd_data_raw, csfd_s_counts, 'ČSFD'),\n",
    "    (mall_data_raw, mall_s_counts, 'MALL.CZ'),\n",
    "]\n",
    "\n",
    "for i, dataset in enumerate(datasets_to_plot):\n",
    "    subplots.append(fig.add_subplot(1, 3, i+1))\n",
    "    sns.boxplot(x='Sentiment', y=dataset[1], \n",
    "                data=dataset[0], \n",
    "                palette='hls', order=['NEG', 'POS', 'NEU'],\n",
    "                ax=subplots[i])\n",
    "    subplots[i].set(title=dataset[2], xlabel='Sentiment', ylabel='Sentences Counts')\n",
    "\n",
    "plt.show()"
   ]
  },
  {
   "cell_type": "markdown",
   "metadata": {},
   "source": [
    "### ⏱ Plot one-sentence vs multi-sentence occurences"
   ]
  },
  {
   "cell_type": "code",
   "execution_count": 6,
   "metadata": {},
   "outputs": [
    {
     "data": {
      "image/png": "[encoded data removed]",
      "text/plain": [
       "<matplotlib.figure.Figure at 0x116b90550>"
      ]
     },
     "metadata": {},
     "output_type": "display_data"
    }
   ],
   "source": [
    "facebook_data_raw['Length'] =   fb_s_counts.apply(lambda c: 'Multiple-sentence' if c > 1 else 'Single-sentence')\n",
    "csfd_data_raw['Length']     = csfd_s_counts.apply(lambda c: 'Multiple-sentence' if c > 1 else 'Single-sentence')\n",
    "mall_data_raw['Length']     = mall_s_counts.apply(lambda c: 'Multiple-sentence' if c > 1 else 'Single-sentence')\n",
    "\n",
    "fig = plt.figure(figsize=(18,8), dpi=72)\n",
    "subplots = []\n",
    "\n",
    "datasets_to_plot = [\n",
    "    (facebook_data_raw, 'Facebook'),\n",
    "    (csfd_data_raw, 'ČSFD'),\n",
    "    (mall_data_raw, 'MALL.CZ'),\n",
    "]\n",
    "\n",
    "for i, dataset in enumerate(datasets_to_plot):\n",
    "    subplots.append(fig.add_subplot(1, 3, i+1))\n",
    "    sns.countplot(x='Sentiment', hue='Length', data=dataset[0], \n",
    "                hue_order=['Single-sentence', 'Multiple-sentence'],\n",
    "                order=['NEG', 'POS', 'NEU'], palette='husl',\n",
    "                ax=subplots[i])\n",
    "    subplots[i].set(title=dataset[1], xlabel='Sentiment', ylabel='Samples Counts')\n",
    "\n",
    "plt.show()"
   ]
  },
  {
   "cell_type": "markdown",
   "metadata": {},
   "source": [
    "### ⏱ Combine the three datasets to our final training data"
   ]
  },
  {
   "cell_type": "code",
   "execution_count": 7,
   "metadata": {
    "collapsed": true
   },
   "outputs": [],
   "source": [
    "# Close your eyes, this is messy and I was lazy to refactor it...\n",
    "\n",
    "def create_joint_dataset(datasets):\n",
    "    '''\n",
    "    Takes multiple datasets (from smallest to largest), computes which class\n",
    "    has the least samples and creates a joint dataset so that all classes\n",
    "    are represented equally (strips off excessive samples).\n",
    "    \n",
    "    Returns a new joint DataFrame.\n",
    "    '''\n",
    "    \n",
    "    data_size_limit = min(\n",
    "        [ sum(x) for x in zip( *[data_stats(dataset) for dataset in datasets] ) ]\n",
    "    )\n",
    "\n",
    "    aggregate_size = [0, 0, 0]\n",
    "    results = [None, None, None]\n",
    "    \n",
    "    for i,dataset in enumerate(datasets):\n",
    "        neg, neu, pos = data_stats(dataset)\n",
    "        new_would = [\n",
    "            aggregate_size[0]+neg,\n",
    "            aggregate_size[1]+neu,\n",
    "            aggregate_size[2]+pos\n",
    "        ]\n",
    "        \n",
    "        if max(new_would) > data_size_limit:\n",
    "            results[i] = (abs(data_size_limit-new_would[0]),\n",
    "                          abs(data_size_limit-new_would[1]),\n",
    "                          abs(data_size_limit-new_would[2]))\n",
    "        else:\n",
    "            results[i] = (0, 0, 0)\n",
    "        \n",
    "        aggregate_size = new_would    \n",
    "    \n",
    "    result_datas = [None, None, None]\n",
    "    for i,res in enumerate(results):\n",
    "        result_datas[i] = datasets[i]\\\n",
    "            .drop(datasets[i].query('Sentiment == \"POS\"').iloc[:res[2]].index.values)\\\n",
    "            .drop(datasets[i].query('Sentiment == \"NEU\"').iloc[:res[1]].index.values)\\\n",
    "            .drop(datasets[i].query('Sentiment == \"NEG\"').iloc[:res[0]].index.values)\n",
    "\n",
    "    \n",
    "    return pd\\\n",
    "        .concat([\n",
    "            result_datas[0],\n",
    "            result_datas[1],\n",
    "            result_datas[2]\n",
    "        ], axis=0)\\\n",
    "        .reset_index(drop=True)"
   ]
  },
  {
   "cell_type": "code",
   "execution_count": 8,
   "metadata": {},
   "outputs": [
    {
     "name": "stdout",
     "output_type": "stream",
     "text": [
      "FINAL ONE SENTENCE: Combined set\n",
      "13442 positive, 13442 neutral and 13442 negative posts.\n",
      "Posts are on average  64 characters long.\n",
      "=================================================================\n",
      "\n"
     ]
    }
   ],
   "source": [
    "# ⏱ Combine the one-sentence datasets into one joint set\n",
    "combined_data_onesentence = create_joint_dataset([facebook_data_onesentence, csfd_data_onesentence, mall_data_onesentence])\n",
    "data_stats(combined_data_onesentence, 'FINAL ONE SENTENCE: Combined set', True)"
   ]
  },
  {
   "cell_type": "markdown",
   "metadata": {},
   "source": [
    "---\n",
    "\n",
    "## Part 2: Preprocess our datasets\n",
    "\n",
    "### Define the sentence processor"
   ]
  },
  {
   "cell_type": "code",
   "execution_count": 9,
   "metadata": {
    "collapsed": true
   },
   "outputs": [],
   "source": [
    "def create_processor(aggressive = False):\n",
    "    '''\n",
    "    Creates a processor instance with set stemmer aggressivity.\n",
    "    Default stemmer aggressivity is False, which means 'light' stemming.\n",
    "    \n",
    "    Returns a sentence processor function.\n",
    "    '''\n",
    "    \n",
    "    punctuation_mapping = str.maketrans(\n",
    "        dict.fromkeys(string.punctuation+'0123456789²½¾ˇ', ' ')\n",
    "    )\n",
    "    \n",
    "    happy_emojis_regex  = \"|\".join( map(re.escape, HAPPY) )\n",
    "    sad_emojis_regex    = \"|\".join( map(re.escape, SAD) )\n",
    "\n",
    "    def sent_processor(sentence):\n",
    "        '''\n",
    "        Takes a sentence, replaces emojis with keywords, strips off punctuation,\n",
    "        numbers and excessive whitespace and converts the sentence to lower case.\n",
    "        The sentence is also capped at `max_sentence_length` words.\n",
    "        \n",
    "        Returns a list of processed words.\n",
    "        '''\n",
    "        def split_sentence(sentence):\n",
    "            split_sentence = re.sub('\\s+', ' ', sentence).split(' ')\n",
    "            return [] if len(sentence) == 0 else split_sentence\n",
    "\n",
    "        def remove_punc(sentence):\n",
    "            return \\\n",
    "                re.sub(sad_emojis_regex, ' sadmoji ',\n",
    "                    re.sub(happy_emojis_regex, ' happymoji ', sentence)\n",
    "                )\\\n",
    "                .translate(punctuation_mapping)\\\n",
    "                .lower()\\\n",
    "                .strip()\n",
    "\n",
    "        def stem(sentence, aggressive):\n",
    "            stemmed = [\n",
    "                cz_stem(word, aggressive) \n",
    "                for word in split_sentence(sentence)\n",
    "            ][:max_sentence_length]\n",
    "        \n",
    "            return ['prázdno'] if len(stemmed) < 1 else stemmed\n",
    "\n",
    "        return stem(remove_punc(sentence), aggressive)\n",
    "    \n",
    "    return sent_processor"
   ]
  },
  {
   "cell_type": "code",
   "execution_count": 10,
   "metadata": {
    "collapsed": true
   },
   "outputs": [],
   "source": [
    "# Create a processor instance\n",
    "sent_processor = create_processor()"
   ]
  },
  {
   "cell_type": "markdown",
   "metadata": {},
   "source": [
    "### ⏱ Create a joint dataset for word vectors learning\n",
    "\n",
    "Combine all of our three *raw* corpora, run the posts through the sentence processor and save the processed text in a `.txt` file which will serve for the word vectors training."
   ]
  },
  {
   "cell_type": "code",
   "execution_count": 11,
   "metadata": {
    "collapsed": true,
    "scrolled": true
   },
   "outputs": [],
   "source": [
    "%%capture\n",
    "\n",
    "combined_data_processed = pd\\\n",
    "    .concat([\n",
    "        facebook_data_raw,\n",
    "        csfd_data_raw,\n",
    "        mall_data_raw\n",
    "    ], axis=0)\\\n",
    "    ['Post']\\\n",
    "    .apply(lambda post: ' '.join( sent_processor(post) ))\n",
    "\n",
    "combined_data_processed.to_csv('data/combined_corpora_processed.txt', \n",
    "                               encoding='utf-8', index=False)\n",
    "\n",
    "# Delete the combined dataframe to free up the memory, we won't need it in our code anymore\n",
    "del combined_data_processed"
   ]
  },
  {
   "cell_type": "markdown",
   "metadata": {},
   "source": [
    "---\n",
    "\n",
    "### Train word vectors\n",
    "\n",
    "Now you can go and run **`train_word_vectors.sh`** file from your console. \n",
    "\n",
    "After you're finished with training and **`combined_corpora_processed.bin`** model is created in `word_models` directory, you can continue to the next cell.\n",
    "\n",
    "#### Getting fastText library\n",
    "\n",
    "You will need a working **`fasttext`** binary in order to train or use word vectors. A binary for macOS is already provided in `lib` directory. If you're on Mac, this should work out of box and you can go run the `train_word_vectors.sh` Shell script.\n",
    "\n",
    "If it doesn't work for you or you're not on Mac, you can obtain your binary via *quickly* building the fastText source. It's literally 3 commands.\n",
    "\n",
    "[More info on getting the `fasttext` binary here](https://fasttext.cc/docs/en/support.html)\n",
    "\n",
    "Once you have your binary, put it inside the project's **`lib`** directory. The following Python script will call a subprocess with the path explicitly defined as `lib/fasttext`.\n",
    "\n",
    "---"
   ]
  },
  {
   "cell_type": "markdown",
   "metadata": {},
   "source": [
    "### Load the word represenation model"
   ]
  },
  {
   "cell_type": "code",
   "execution_count": 12,
   "metadata": {
    "collapsed": true
   },
   "outputs": [],
   "source": [
    "def load_word_model(model = 'word_models/combined_corpora_processed.bin'):\n",
    "    '''\n",
    "    Loads a fastText word representation model.\n",
    "    NOTE: Load a word model no more than once per kernel!\n",
    "    \n",
    "    Returns a function for getting word vectors.\n",
    "    '''\n",
    "    \n",
    "    word_model = subprocess.Popen(\n",
    "        ['lib/fasttext', 'print-word-vectors', model], \n",
    "        stdout=subprocess.PIPE, stdin=subprocess.PIPE)\n",
    "    \n",
    "    def get_word_vector(word):\n",
    "        '''\n",
    "        Takes a single processed word.\n",
    "        \n",
    "        Returns a list of word vector representation.\n",
    "        '''\n",
    "        \n",
    "        word_model.stdin.write( bytes('{}\\n'.format(word), 'utf-8') )\n",
    "        word_model.stdin.flush()\n",
    "        return [\n",
    "            float(value) for value in \\\n",
    "            word_model.stdout.readline()\\\n",
    "                .decode('utf-8')\\\n",
    "                .replace('{} '.format(word), '')\\\n",
    "                .replace(' \\n', '')\\\n",
    "                .split(' ')  \n",
    "        ]\n",
    "    \n",
    "    return get_word_vector"
   ]
  },
  {
   "cell_type": "code",
   "execution_count": 13,
   "metadata": {
    "collapsed": true
   },
   "outputs": [],
   "source": [
    "# Load the word embedding model\n",
    "word_vector = load_word_model()\n",
    "word_vector_dim = 100"
   ]
  },
  {
   "cell_type": "markdown",
   "metadata": {
    "collapsed": true
   },
   "source": [
    "### Define a function for obtaining sentence tensors from text sentence"
   ]
  },
  {
   "cell_type": "code",
   "execution_count": 14,
   "metadata": {
    "collapsed": true
   },
   "outputs": [],
   "source": [
    "def sentence_tensor(sentence):\n",
    "    '''\n",
    "    Takes a sentence, runs it through the sentence processor\n",
    "    and obtains word vectors for all of the processed words.\n",
    "    Pads the array so it matches our input size.\n",
    "    \n",
    "    Returns a 2D numpy array containing word vectors.\n",
    "    '''\n",
    "\n",
    "    sentence_array = [word_vector(word) for word in sent_processor(sentence)]\n",
    "    \n",
    "    return np.pad(sentence_array, \n",
    "                  pad_width=( \n",
    "                      (0, max_sentence_length - len(sentence_array)), \n",
    "                      (0, 0) \n",
    "                  ), \n",
    "                  mode='constant')"
   ]
  },
  {
   "cell_type": "markdown",
   "metadata": {},
   "source": [
    "### ⏱ Process the text data and save our final  sets"
   ]
  },
  {
   "cell_type": "code",
   "execution_count": 15,
   "metadata": {
    "scrolled": true
   },
   "outputs": [
    {
     "name": "stdout",
     "output_type": "stream",
     "text": [
      "'facebook_y' labels successfully saved!\n",
      "'facebook_x' sentences successfully saved!\n",
      "\n",
      "'csfd_y' labels successfully saved!\n",
      "'csfd_x' sentences successfully saved!\n",
      "\n",
      "'mall_y' labels successfully saved!\n",
      "'mall_x' sentences successfully saved!\n",
      "\n",
      "'combined_y' labels successfully saved!\n",
      "'combined_x' sentences successfully saved!\n",
      "\n"
     ]
    }
   ],
   "source": [
    "def dataset_process_save(dataframe, name):\n",
    "    '''\n",
    "    Takes a DataFrame, obtains sentence tensors for each\n",
    "    entry and saves the 3D numpy array as .npy\n",
    "    \n",
    "    The labels are one-hot-encoded and also saved as .npy\n",
    "    '''\n",
    "    \n",
    "    y_labels = pd.get_dummies(dataframe, columns=['Sentiment']).drop('Post', axis=1).as_matrix()\n",
    "    np.save('data/{}_y.npy'.format(name), y_labels)\n",
    "    print('\\'{}_y\\' labels successfully saved!'.format(name))\n",
    "    \n",
    "    x_data = np.stack([sentence_tensor(post) for post in dataframe['Post']])\n",
    "    np.save('data/{}_x.npy'.format(name), x_data)\n",
    "    print('\\'{}_x\\' sentences successfully saved!\\n'.format(name))\n",
    "    \n",
    "    del x_data, y_labels\n",
    "    return None\n",
    "\n",
    "dataset_process_save(facebook_data_onesentence, 'facebook')\n",
    "dataset_process_save(csfd_data_onesentence, 'csfd')\n",
    "dataset_process_save(mall_data_onesentence, 'mall')\n",
    "dataset_process_save(combined_data_onesentence, 'combined')\n",
    "\n",
    "# Delete the processed DataFrames to free up the memory, we won't need them in our code anymore\n",
    "del facebook_data_onesentence, csfd_data_onesentence, mall_data_onesentence, combined_data_onesentence"
   ]
  },
  {
   "cell_type": "markdown",
   "metadata": {
    "collapsed": true
   },
   "source": [
    "### Define a loader for our final processed datasets from `.npy` files"
   ]
  },
  {
   "cell_type": "code",
   "execution_count": 16,
   "metadata": {
    "collapsed": true
   },
   "outputs": [],
   "source": [
    "def load_xy(dataset = 'small_data'):\n",
    "    '''\n",
    "    Loads X and Y for specified dataset. Shuffles and splits into \n",
    "    training and testing sets.\n",
    "    \n",
    "    Returns X_train, X_test, y_train, y_test \n",
    "    '''\n",
    "    X = np.load('data/{}_x.npy'.format(dataset))\n",
    "    y = np.load('data/{}_y.npy'.format(dataset))\n",
    "    \n",
    "    return train_test_split(X, y, test_size=0.1, random_state=29, shuffle=True)"
   ]
  },
  {
   "cell_type": "markdown",
   "metadata": {},
   "source": [
    "---\n",
    "\n",
    "## Part 3: Define our neural network and benchmark models\n",
    "\n",
    "<p>&nbsp;</p>\n",
    "<p>&nbsp;</p>\n",
    "\n",
    "![Convolutional Neural Network Architecture Used for the Project](images/cnn.png)\n",
    "\n",
    "<p>&nbsp;</p>\n",
    "\n",
    "---\n",
    "\n",
    "### Define our `CNN` class"
   ]
  },
  {
   "cell_type": "code",
   "execution_count": 17,
   "metadata": {},
   "outputs": [
    {
     "name": "stderr",
     "output_type": "stream",
     "text": [
      "Using TensorFlow backend.\n"
     ]
    }
   ],
   "source": [
    "from keras.models import Sequential\n",
    "from keras.callbacks import ModelCheckpoint\n",
    "from keras.regularizers import l2\n",
    "from keras.layers import Conv1D, MaxPooling1D, GlobalAveragePooling1D, GlobalMaxPooling1D, Dropout, Dense\n",
    "\n",
    "class CNN():\n",
    "    def __init__(self, name = 'unnamed', optimizer = 'adagrad'):\n",
    "        '''\n",
    "        Creates and compiles a new model. Prints out its summary.\n",
    "        '''\n",
    "        \n",
    "        self.name = name\n",
    "        self.model_weights = 'models/weights.best.{}.hdf5'.format(self.name)\n",
    "        \n",
    "        self.model = Sequential()\n",
    "        self.model.add(\n",
    "            Conv1D(filters = 64, kernel_size = 4, \n",
    "                   activation = 'relu', padding = 'same',\n",
    "                   input_shape = (max_sentence_length, word_vector_dim))\n",
    "        )\n",
    "        self.model.add(MaxPooling1D(pool_size = 2))\n",
    "        \n",
    "        self.model.add(\n",
    "            Conv1D(filters = 128, kernel_size = 8, \n",
    "                   activation = 'relu', padding = 'same',)\n",
    "        )\n",
    "        self.model.add(MaxPooling1D(pool_size = 2))\n",
    "        \n",
    "        self.model.add(GlobalMaxPooling1D())\n",
    "        self.model.add(Dense(units = len(target_labels), activation = 'softmax'))\n",
    "        \n",
    "        self.model.compile(optimizer = optimizer, \n",
    "                           loss = 'categorical_crossentropy', \n",
    "                           metrics = ['categorical_accuracy'])\n",
    "\n",
    "        self.model.summary()\n",
    "        \n",
    "        return None\n",
    "    \n",
    "    def fit(self, X_train, y_train, epochs = 20, batch_size = 1000, validation_split = 0.15):\n",
    "        '''\n",
    "        Trains and cross-validates the model on the provided\n",
    "        training set `X_train` and `y_train`. You can also setup\n",
    "        `epochs`, `batch_size` and `validation_split`.\n",
    "        \n",
    "        Returns self.\n",
    "        '''\n",
    "        \n",
    "        print('\\nFitting \\'{}\\' model...\\n'.format(self.name) + '_'*65)\n",
    "        self.checkpointer = ModelCheckpoint(filepath = self.model_weights, \n",
    "                                            verbose = 1, save_best_only = True)\n",
    "        \n",
    "        self.model.fit(X_train, y_train, \n",
    "                       epochs = epochs, \n",
    "                       batch_size = batch_size, \n",
    "                       validation_split = validation_split, \n",
    "                       callbacks = [self.checkpointer], \n",
    "                       verbose = 1)\n",
    "        \n",
    "        self.load()\n",
    "        \n",
    "        return self\n",
    "    \n",
    "    def load(self):\n",
    "        '''\n",
    "        Loads the saved weights for the model.\n",
    "        \n",
    "        Returns self.\n",
    "        '''\n",
    "        \n",
    "        self.model.load_weights(self.model_weights)\n",
    "        print('_'*65 + '\\nLoaded the weights for \\'{}\\' model.\\n'.format(self.name))\n",
    "        \n",
    "        return self\n",
    "    \n",
    "    def predict(self, sentence, proba = False):\n",
    "        '''\n",
    "        Takes a `sentence` and predicts its label.\n",
    "        \n",
    "        Returns the label index.\n",
    "        '''\n",
    "        \n",
    "        sentence_array = np.expand_dims(sentence_tensor(sentence), axis=0) \\\n",
    "                         if type(sentence) is str else \\\n",
    "                         np.expand_dims(sentence, axis=0)\n",
    "    \n",
    "        prediction = self.model.predict(sentence_array)\n",
    "        return np.argmax(prediction) if proba is False else prediction\n",
    "    \n",
    "    def predict_proba(self, sentence):\n",
    "        '''\n",
    "        Takes a `sentence` and predicts its label.\n",
    "        \n",
    "        Returns a vector containing probabilities of belonging to each of the labels.\n",
    "        '''\n",
    "        \n",
    "        return self.predict(sentence, True)\n",
    "    \n",
    "    def score(self, X_test, y_test):\n",
    "        '''\n",
    "        Computes the accuracy and weighted F1 score for the provided\n",
    "        testing set `X_test` and `y_test`.\n",
    "        \n",
    "        Returns tuple (accuracy, F1, individual F1s).\n",
    "        '''\n",
    "        \n",
    "        predictions = [self.predict(sentence) for sentence in X_test]\n",
    "        true = np.argmax(y_test, axis=1)\n",
    "        \n",
    "        return (\n",
    "            np.sum(np.array(predictions) == true) / len(predictions),\n",
    "            f1_score(true, predictions, average = 'weighted'),\n",
    "            f1_score(true, predictions, average = None)\n",
    "        )\n",
    "\n",
    "    \n",
    "    def test(self, X_test, y_test):\n",
    "        '''\n",
    "        Obtains and prints out accuracy and F1 scores for the provided\n",
    "        testing set `X_test` and `y_test`.\n",
    "        \n",
    "        Returns self.\n",
    "        '''\n",
    "        \n",
    "        accuracy_score_, f1_score_, f1_scores_ = self.score(X_test, y_test)\n",
    "\n",
    "        print('_'*65)\n",
    "        print('SCORES FOR \\'{}\\' MODEL'.format(self.name))\n",
    "        print('Test Accuracy: {0:2.4f}%'.format(accuracy_score_*100))\n",
    "        print('F1 Score: {0:2.4f}'.format(f1_score_))\n",
    "        print('F1 Scores: {}'.format(f1_scores_))\n",
    "        print('='*65 + '\\n')\n",
    "        \n",
    "        return self\n",
    "    \n",
    "    def benchmark(self, X_test, y_test):\n",
    "        '''\n",
    "        Obtains and prints out accuracy and F1 scores for the provided\n",
    "        testing set `X_test` and `y_test`.\n",
    "        \n",
    "        Returns self.\n",
    "        '''\n",
    "        \n",
    "        true = np.argmax(y_test, axis=1)\n",
    "        choices = list( set(true) )\n",
    "\n",
    "        weights = [\n",
    "            (true == label).sum() / true.sum()\n",
    "            for label in choices\n",
    "        ]\n",
    "        \n",
    "        def bench_predict(sentence):\n",
    "            '''\n",
    "            Takes a `sentence` and predicts weighted random label.\n",
    "\n",
    "            Returns the label index.\n",
    "            '''\n",
    "\n",
    "            return random.choices(choices, weights)[0]\n",
    "        \n",
    "        predictions = [bench_predict(sentence) for sentence in X_test]\n",
    "\n",
    "        print('_'*65)\n",
    "        print('SCORES FOR \\'{}\\' BENCHMARK MODEL'.format(self.name))\n",
    "        print('Test Accuracy: {0:2.4f}%'.format(np.sum(np.array(predictions) == true) / len(predictions)))\n",
    "        print('F1 Score: {0:2.4f}'.format(f1_score(true, predictions, average = 'weighted')))\n",
    "        print('F1 Scores: {}'.format(f1_score(true, predictions, average = None)))\n",
    "        print('='*65 + '\\n')\n",
    "\n",
    "        return self"
   ]
  },
  {
   "cell_type": "markdown",
   "metadata": {},
   "source": [
    "---\n",
    "\n",
    "## Part 4: Create the individual models and train\n",
    "### Facebook Model"
   ]
  },
  {
   "cell_type": "code",
   "execution_count": 30,
   "metadata": {},
   "outputs": [
    {
     "name": "stdout",
     "output_type": "stream",
     "text": [
      "_________________________________________________________________\n",
      "Layer (type)                 Output Shape              Param #   \n",
      "=================================================================\n",
      "conv1d_9 (Conv1D)            (None, 30, 64)            25664     \n",
      "_________________________________________________________________\n",
      "max_pooling1d_9 (MaxPooling1 (None, 15, 64)            0         \n",
      "_________________________________________________________________\n",
      "conv1d_10 (Conv1D)           (None, 15, 128)           65664     \n",
      "_________________________________________________________________\n",
      "max_pooling1d_10 (MaxPooling (None, 7, 128)            0         \n",
      "_________________________________________________________________\n",
      "global_max_pooling1d_5 (Glob (None, 128)               0         \n",
      "_________________________________________________________________\n",
      "dense_5 (Dense)              (None, 3)                 387       \n",
      "=================================================================\n",
      "Total params: 91,715\n",
      "Trainable params: 91,715\n",
      "Non-trainable params: 0\n",
      "_________________________________________________________________\n"
     ]
    }
   ],
   "source": [
    "# Load the processed data set\n",
    "facebook_X_train, facebook_X_test, \\\n",
    "    facebook_y_train, facebook_y_test = load_xy('facebook')\n",
    "\n",
    "# Initiate the model\n",
    "facebook_model = CNN('facebook')"
   ]
  },
  {
   "cell_type": "code",
   "execution_count": 31,
   "metadata": {
    "scrolled": false
   },
   "outputs": [
    {
     "name": "stdout",
     "output_type": "stream",
     "text": [
      "\n",
      "Fitting 'facebook' model...\n",
      "_________________________________________________________________\n",
      "Train on 5254 samples, validate on 928 samples\n",
      "Epoch 1/5\n",
      "5220/5254 [============================>.] - ETA: 0s - loss: 0.7170 - categorical_accuracy: 0.6872Epoch 00000: val_loss improved from inf to 0.65148, saving model to models/weights.best.facebook.hdf5\n",
      "5254/5254 [==============================] - 7s - loss: 0.7154 - categorical_accuracy: 0.6880 - val_loss: 0.6515 - val_categorical_accuracy: 0.7091\n",
      "Epoch 2/5\n",
      "5240/5254 [============================>.] - ETA: 0s - loss: 0.5393 - categorical_accuracy: 0.7756Epoch 00001: val_loss improved from 0.65148 to 0.61018, saving model to models/weights.best.facebook.hdf5\n",
      "5254/5254 [==============================] - 6s - loss: 0.5392 - categorical_accuracy: 0.7758 - val_loss: 0.6102 - val_categorical_accuracy: 0.7435\n",
      "Epoch 3/5\n",
      "5240/5254 [============================>.] - ETA: 0s - loss: 0.4555 - categorical_accuracy: 0.8216Epoch 00002: val_loss did not improve\n",
      "5254/5254 [==============================] - 7s - loss: 0.4559 - categorical_accuracy: 0.8211 - val_loss: 0.6266 - val_categorical_accuracy: 0.7414\n",
      "Epoch 4/5\n",
      "5220/5254 [============================>.] - ETA: 0s - loss: 0.3832 - categorical_accuracy: 0.8529Epoch 00003: val_loss did not improve\n",
      "5254/5254 [==============================] - 6s - loss: 0.3837 - categorical_accuracy: 0.8525 - val_loss: 0.6403 - val_categorical_accuracy: 0.7392\n",
      "Epoch 5/5\n",
      "5240/5254 [============================>.] - ETA: 0s - loss: 0.3218 - categorical_accuracy: 0.8805Epoch 00004: val_loss did not improve\n",
      "5254/5254 [==============================] - 6s - loss: 0.3218 - categorical_accuracy: 0.8805 - val_loss: 0.6405 - val_categorical_accuracy: 0.7500\n",
      "_________________________________________________________________\n",
      "Loaded the weights for 'facebook' model.\n",
      "\n",
      "_________________________________________________________________\n",
      "SCORES FOR 'facebook' MODEL\n",
      "Test Accuracy: 71.6157%\n",
      "F1 Score: 0.7083\n",
      "F1 Scores: [ 0.54700855  0.76190476  0.72727273]\n",
      "=================================================================\n",
      "\n",
      "_________________________________________________________________\n",
      "SCORES FOR 'facebook' BENCHMARK MODEL\n",
      "Test Accuracy: 0.3843%\n",
      "F1 Score: 0.3865\n",
      "F1 Scores: [ 0.23728814  0.51209104  0.2606383 ]\n",
      "=================================================================\n",
      "\n"
     ]
    }
   ],
   "source": [
    "facebook_model.fit(facebook_X_train, facebook_y_train, epochs=5, batch_size=20)\\\n",
    "              .test(facebook_X_test, facebook_y_test)\\\n",
    "              .benchmark(facebook_X_test, facebook_y_test);"
   ]
  },
  {
   "cell_type": "markdown",
   "metadata": {
    "collapsed": true
   },
   "source": [
    "### ČSFD Model"
   ]
  },
  {
   "cell_type": "code",
   "execution_count": 32,
   "metadata": {},
   "outputs": [
    {
     "name": "stdout",
     "output_type": "stream",
     "text": [
      "_________________________________________________________________\n",
      "Layer (type)                 Output Shape              Param #   \n",
      "=================================================================\n",
      "conv1d_11 (Conv1D)           (None, 30, 64)            25664     \n",
      "_________________________________________________________________\n",
      "max_pooling1d_11 (MaxPooling (None, 15, 64)            0         \n",
      "_________________________________________________________________\n",
      "conv1d_12 (Conv1D)           (None, 15, 128)           65664     \n",
      "_________________________________________________________________\n",
      "max_pooling1d_12 (MaxPooling (None, 7, 128)            0         \n",
      "_________________________________________________________________\n",
      "global_max_pooling1d_6 (Glob (None, 128)               0         \n",
      "_________________________________________________________________\n",
      "dense_6 (Dense)              (None, 3)                 387       \n",
      "=================================================================\n",
      "Total params: 91,715\n",
      "Trainable params: 91,715\n",
      "Non-trainable params: 0\n",
      "_________________________________________________________________\n"
     ]
    }
   ],
   "source": [
    "# Load the processed data set\n",
    "csfd_X_train, csfd_X_test, \\\n",
    "    csfd_y_train, csfd_y_test = load_xy('csfd')\n",
    "\n",
    "# Initiate the model\n",
    "csfd_model = CNN('csfd')"
   ]
  },
  {
   "cell_type": "code",
   "execution_count": 33,
   "metadata": {},
   "outputs": [
    {
     "name": "stdout",
     "output_type": "stream",
     "text": [
      "\n",
      "Fitting 'csfd' model...\n",
      "_________________________________________________________________\n",
      "Train on 14948 samples, validate on 2638 samples\n",
      "Epoch 1/5\n",
      "14920/14948 [============================>.] - ETA: 0s - loss: 0.7076 - categorical_accuracy: 0.6843Epoch 00000: val_loss improved from inf to 0.65333, saving model to models/weights.best.csfd.hdf5\n",
      "14948/14948 [==============================] - 21s - loss: 0.7071 - categorical_accuracy: 0.6846 - val_loss: 0.6533 - val_categorical_accuracy: 0.7187\n",
      "Epoch 2/5\n",
      "14940/14948 [============================>.] - ETA: 0s - loss: 0.6017 - categorical_accuracy: 0.7406Epoch 00001: val_loss improved from 0.65333 to 0.63058, saving model to models/weights.best.csfd.hdf5\n",
      "14948/14948 [==============================] - 20s - loss: 0.6015 - categorical_accuracy: 0.7406 - val_loss: 0.6306 - val_categorical_accuracy: 0.7339\n",
      "Epoch 3/5\n",
      "14920/14948 [============================>.] - ETA: 0s - loss: 0.5523 - categorical_accuracy: 0.7674Epoch 00002: val_loss did not improve\n",
      "14948/14948 [==============================] - 18s - loss: 0.5526 - categorical_accuracy: 0.7672 - val_loss: 0.6354 - val_categorical_accuracy: 0.7316\n",
      "Epoch 4/5\n",
      "14900/14948 [============================>.] - ETA: 0s - loss: 0.5091 - categorical_accuracy: 0.7894Epoch 00003: val_loss improved from 0.63058 to 0.62832, saving model to models/weights.best.csfd.hdf5\n",
      "14948/14948 [==============================] - 14s - loss: 0.5091 - categorical_accuracy: 0.7893 - val_loss: 0.6283 - val_categorical_accuracy: 0.7358\n",
      "Epoch 5/5\n",
      "14940/14948 [============================>.] - ETA: 0s - loss: 0.4656 - categorical_accuracy: 0.8171Epoch 00004: val_loss did not improve\n",
      "14948/14948 [==============================] - 16s - loss: 0.4656 - categorical_accuracy: 0.8172 - val_loss: 0.6485 - val_categorical_accuracy: 0.7176\n",
      "_________________________________________________________________\n",
      "Loaded the weights for 'csfd' model.\n",
      "\n",
      "_________________________________________________________________\n",
      "SCORES FOR 'csfd' MODEL\n",
      "Test Accuracy: 71.3408%\n",
      "F1 Score: 0.7104\n",
      "F1 Scores: [ 0.76399561  0.60743427  0.73855544]\n",
      "=================================================================\n",
      "\n",
      "_________________________________________________________________\n",
      "SCORES FOR 'csfd' BENCHMARK MODEL\n",
      "Test Accuracy: 0.3388%\n",
      "F1 Score: 0.3386\n",
      "F1 Scores: [ 0.42209302  0.29783694  0.24340771]\n",
      "=================================================================\n",
      "\n"
     ]
    }
   ],
   "source": [
    "csfd_model.fit(csfd_X_train, csfd_y_train, epochs=5, batch_size=20)\\\n",
    "          .test(csfd_X_test, csfd_y_test)\\\n",
    "          .benchmark(csfd_X_test, csfd_y_test);"
   ]
  },
  {
   "cell_type": "markdown",
   "metadata": {},
   "source": [
    "### MALL.CZ Model"
   ]
  },
  {
   "cell_type": "code",
   "execution_count": 34,
   "metadata": {},
   "outputs": [
    {
     "name": "stdout",
     "output_type": "stream",
     "text": [
      "_________________________________________________________________\n",
      "Layer (type)                 Output Shape              Param #   \n",
      "=================================================================\n",
      "conv1d_13 (Conv1D)           (None, 30, 64)            25664     \n",
      "_________________________________________________________________\n",
      "max_pooling1d_13 (MaxPooling (None, 15, 64)            0         \n",
      "_________________________________________________________________\n",
      "conv1d_14 (Conv1D)           (None, 15, 128)           65664     \n",
      "_________________________________________________________________\n",
      "max_pooling1d_14 (MaxPooling (None, 7, 128)            0         \n",
      "_________________________________________________________________\n",
      "global_max_pooling1d_7 (Glob (None, 128)               0         \n",
      "_________________________________________________________________\n",
      "dense_7 (Dense)              (None, 3)                 387       \n",
      "=================================================================\n",
      "Total params: 91,715\n",
      "Trainable params: 91,715\n",
      "Non-trainable params: 0\n",
      "_________________________________________________________________\n"
     ]
    }
   ],
   "source": [
    "# Load the processed data set\n",
    "mall_X_train, mall_X_test, \\\n",
    "    mall_y_train, mall_y_test = load_xy('mall')\n",
    "\n",
    "# Initiate the model\n",
    "mall_model = CNN('mall')"
   ]
  },
  {
   "cell_type": "code",
   "execution_count": 35,
   "metadata": {
    "scrolled": false
   },
   "outputs": [
    {
     "name": "stdout",
     "output_type": "stream",
     "text": [
      "\n",
      "Fitting 'mall' model...\n",
      "_________________________________________________________________\n",
      "Train on 56879 samples, validate on 10038 samples\n",
      "Epoch 1/20\n",
      "56000/56879 [============================>.] - ETA: 0s - loss: 0.6519 - categorical_accuracy: 0.7637Epoch 00000: val_loss improved from inf to 0.53990, saving model to models/weights.best.mall.hdf5\n",
      "56879/56879 [==============================] - 38s - loss: 0.6505 - categorical_accuracy: 0.7639 - val_loss: 0.5399 - val_categorical_accuracy: 0.7773\n",
      "Epoch 2/20\n",
      "56000/56879 [============================>.] - ETA: 0s - loss: 0.5359 - categorical_accuracy: 0.7847Epoch 00001: val_loss improved from 0.53990 to 0.52564, saving model to models/weights.best.mall.hdf5\n",
      "56879/56879 [==============================] - 32s - loss: 0.5358 - categorical_accuracy: 0.7849 - val_loss: 0.5256 - val_categorical_accuracy: 0.7859\n",
      "Epoch 3/20\n",
      "56000/56879 [============================>.] - ETA: 0s - loss: 0.5129 - categorical_accuracy: 0.7954Epoch 00002: val_loss improved from 0.52564 to 0.49949, saving model to models/weights.best.mall.hdf5\n",
      "56879/56879 [==============================] - 32s - loss: 0.5121 - categorical_accuracy: 0.7959 - val_loss: 0.4995 - val_categorical_accuracy: 0.7994\n",
      "Epoch 4/20\n",
      "56000/56879 [============================>.] - ETA: 0s - loss: 0.4935 - categorical_accuracy: 0.8023Epoch 00003: val_loss improved from 0.49949 to 0.49760, saving model to models/weights.best.mall.hdf5\n",
      "56879/56879 [==============================] - 38s - loss: 0.4935 - categorical_accuracy: 0.8023 - val_loss: 0.4976 - val_categorical_accuracy: 0.7988\n",
      "Epoch 5/20\n",
      "56000/56879 [============================>.] - ETA: 0s - loss: 0.4814 - categorical_accuracy: 0.8087Epoch 00004: val_loss did not improve\n",
      "56879/56879 [==============================] - 35s - loss: 0.4811 - categorical_accuracy: 0.8088 - val_loss: 0.5085 - val_categorical_accuracy: 0.7947\n",
      "Epoch 6/20\n",
      "56000/56879 [============================>.] - ETA: 0s - loss: 0.4708 - categorical_accuracy: 0.8125Epoch 00005: val_loss improved from 0.49760 to 0.48498, saving model to models/weights.best.mall.hdf5\n",
      "56879/56879 [==============================] - 36s - loss: 0.4710 - categorical_accuracy: 0.8124 - val_loss: 0.4850 - val_categorical_accuracy: 0.8074\n",
      "Epoch 7/20\n",
      "56000/56879 [============================>.] - ETA: 0s - loss: 0.4574 - categorical_accuracy: 0.8188Epoch 00006: val_loss improved from 0.48498 to 0.47821, saving model to models/weights.best.mall.hdf5\n",
      "56879/56879 [==============================] - 34s - loss: 0.4580 - categorical_accuracy: 0.8187 - val_loss: 0.4782 - val_categorical_accuracy: 0.8079\n",
      "Epoch 8/20\n",
      "56000/56879 [============================>.] - ETA: 0s - loss: 0.4478 - categorical_accuracy: 0.8240Epoch 00007: val_loss improved from 0.47821 to 0.47463, saving model to models/weights.best.mall.hdf5\n",
      "56879/56879 [==============================] - 34s - loss: 0.4479 - categorical_accuracy: 0.8238 - val_loss: 0.4746 - val_categorical_accuracy: 0.8114\n",
      "Epoch 9/20\n",
      "56000/56879 [============================>.] - ETA: 0s - loss: 0.4374 - categorical_accuracy: 0.8291Epoch 00008: val_loss did not improve\n",
      "56879/56879 [==============================] - 35s - loss: 0.4381 - categorical_accuracy: 0.8286 - val_loss: 0.4835 - val_categorical_accuracy: 0.8060\n",
      "Epoch 10/20\n",
      "56000/56879 [============================>.] - ETA: 0s - loss: 0.4276 - categorical_accuracy: 0.8331Epoch 00009: val_loss improved from 0.47463 to 0.46573, saving model to models/weights.best.mall.hdf5\n",
      "56879/56879 [==============================] - 44s - loss: 0.4274 - categorical_accuracy: 0.8333 - val_loss: 0.4657 - val_categorical_accuracy: 0.8138\n",
      "Epoch 11/20\n",
      "56000/56879 [============================>.] - ETA: 0s - loss: 0.4175 - categorical_accuracy: 0.8382Epoch 00010: val_loss did not improve\n",
      "56879/56879 [==============================] - 35s - loss: 0.4176 - categorical_accuracy: 0.8381 - val_loss: 0.4841 - val_categorical_accuracy: 0.8083\n",
      "Epoch 12/20\n",
      "56000/56879 [============================>.] - ETA: 0s - loss: 0.4119 - categorical_accuracy: 0.8401Epoch 00011: val_loss did not improve\n",
      "56879/56879 [==============================] - 31s - loss: 0.4115 - categorical_accuracy: 0.8406 - val_loss: 0.4665 - val_categorical_accuracy: 0.8134\n",
      "Epoch 13/20\n",
      "56000/56879 [============================>.] - ETA: 0s - loss: 0.4001 - categorical_accuracy: 0.8456Epoch 00012: val_loss improved from 0.46573 to 0.46189, saving model to models/weights.best.mall.hdf5\n",
      "56879/56879 [==============================] - 32s - loss: 0.4000 - categorical_accuracy: 0.8457 - val_loss: 0.4619 - val_categorical_accuracy: 0.8203\n",
      "Epoch 14/20\n",
      "56000/56879 [============================>.] - ETA: 0s - loss: 0.3897 - categorical_accuracy: 0.8509Epoch 00013: val_loss did not improve\n",
      "56879/56879 [==============================] - 34s - loss: 0.3900 - categorical_accuracy: 0.8506 - val_loss: 0.4882 - val_categorical_accuracy: 0.8045\n",
      "Epoch 15/20\n",
      "56000/56879 [============================>.] - ETA: 0s - loss: 0.3868 - categorical_accuracy: 0.8518Epoch 00014: val_loss improved from 0.46189 to 0.45522, saving model to models/weights.best.mall.hdf5\n",
      "56879/56879 [==============================] - 35s - loss: 0.3863 - categorical_accuracy: 0.8521 - val_loss: 0.4552 - val_categorical_accuracy: 0.8241\n",
      "Epoch 16/20\n",
      "56000/56879 [============================>.] - ETA: 0s - loss: 0.3737 - categorical_accuracy: 0.8590Epoch 00015: val_loss did not improve\n",
      "56879/56879 [==============================] - 30s - loss: 0.3740 - categorical_accuracy: 0.8588 - val_loss: 0.4709 - val_categorical_accuracy: 0.8166\n",
      "Epoch 17/20\n",
      "56000/56879 [============================>.] - ETA: 0s - loss: 0.3676 - categorical_accuracy: 0.8612Epoch 00016: val_loss improved from 0.45522 to 0.45333, saving model to models/weights.best.mall.hdf5\n",
      "56879/56879 [==============================] - 30s - loss: 0.3674 - categorical_accuracy: 0.8614 - val_loss: 0.4533 - val_categorical_accuracy: 0.8255\n",
      "Epoch 18/20\n",
      "56000/56879 [============================>.] - ETA: 0s - loss: 0.3618 - categorical_accuracy: 0.8643Epoch 00017: val_loss improved from 0.45333 to 0.45231, saving model to models/weights.best.mall.hdf5\n",
      "56879/56879 [==============================] - 30s - loss: 0.3616 - categorical_accuracy: 0.8643 - val_loss: 0.4523 - val_categorical_accuracy: 0.8240\n",
      "Epoch 19/20\n",
      "56000/56879 [============================>.] - ETA: 0s - loss: 0.3537 - categorical_accuracy: 0.8685Epoch 00018: val_loss did not improve\n",
      "56879/56879 [==============================] - 30s - loss: 0.3539 - categorical_accuracy: 0.8685 - val_loss: 0.4730 - val_categorical_accuracy: 0.8194\n",
      "Epoch 20/20\n",
      "56000/56879 [============================>.] - ETA: 0s - loss: 0.3487 - categorical_accuracy: 0.8699Epoch 00019: val_loss improved from 0.45231 to 0.44950, saving model to models/weights.best.mall.hdf5\n",
      "56879/56879 [==============================] - 32s - loss: 0.3481 - categorical_accuracy: 0.8702 - val_loss: 0.4495 - val_categorical_accuracy: 0.8269\n",
      "_________________________________________________________________\n",
      "Loaded the weights for 'mall' model.\n",
      "\n",
      "_________________________________________________________________\n",
      "SCORES FOR 'mall' MODEL\n",
      "Test Accuracy: 82.5175%\n",
      "F1 Score: 0.8059\n",
      "F1 Scores: [ 0.54639175  0.47906348  0.90231171]\n",
      "=================================================================\n",
      "\n",
      "_________________________________________________________________\n",
      "SCORES FOR 'mall' BENCHMARK MODEL\n",
      "Test Accuracy: 0.6251%\n",
      "F1 Score: 0.6246\n",
      "F1 Scores: [ 0.06906907  0.1837531   0.76683938]\n",
      "=================================================================\n",
      "\n"
     ]
    }
   ],
   "source": [
    "mall_model.fit(mall_X_train, mall_y_train, epochs=20, batch_size=1000)\\\n",
    "          .test(mall_X_test, mall_y_test)\\\n",
    "          .benchmark(mall_X_test, mall_y_test);"
   ]
  },
  {
   "cell_type": "markdown",
   "metadata": {},
   "source": [
    "### Combined Model"
   ]
  },
  {
   "cell_type": "code",
   "execution_count": 36,
   "metadata": {},
   "outputs": [
    {
     "name": "stdout",
     "output_type": "stream",
     "text": [
      "_________________________________________________________________\n",
      "Layer (type)                 Output Shape              Param #   \n",
      "=================================================================\n",
      "conv1d_15 (Conv1D)           (None, 30, 64)            25664     \n",
      "_________________________________________________________________\n",
      "max_pooling1d_15 (MaxPooling (None, 15, 64)            0         \n",
      "_________________________________________________________________\n",
      "conv1d_16 (Conv1D)           (None, 15, 128)           65664     \n",
      "_________________________________________________________________\n",
      "max_pooling1d_16 (MaxPooling (None, 7, 128)            0         \n",
      "_________________________________________________________________\n",
      "global_max_pooling1d_8 (Glob (None, 128)               0         \n",
      "_________________________________________________________________\n",
      "dense_8 (Dense)              (None, 3)                 387       \n",
      "=================================================================\n",
      "Total params: 91,715\n",
      "Trainable params: 91,715\n",
      "Non-trainable params: 0\n",
      "_________________________________________________________________\n"
     ]
    }
   ],
   "source": [
    "# Load the processed data set\n",
    "combined_X_train, combined_X_test, \\\n",
    "    combined_y_train, combined_y_test = load_xy('combined')\n",
    "\n",
    "# Initiate the model\n",
    "combined_model = CNN('combined')"
   ]
  },
  {
   "cell_type": "code",
   "execution_count": 37,
   "metadata": {
    "scrolled": false
   },
   "outputs": [
    {
     "name": "stdout",
     "output_type": "stream",
     "text": [
      "\n",
      "Fitting 'combined' model...\n",
      "_________________________________________________________________\n",
      "Train on 30849 samples, validate on 5444 samples\n",
      "Epoch 1/20\n",
      "30000/30849 [============================>.] - ETA: 0s - loss: 1.0544 - categorical_accuracy: 0.5068Epoch 00000: val_loss improved from inf to 0.88363, saving model to models/weights.best.combined.hdf5\n",
      "30849/30849 [==============================] - 23s - loss: 1.0489 - categorical_accuracy: 0.5088 - val_loss: 0.8836 - val_categorical_accuracy: 0.5737\n",
      "Epoch 2/20\n",
      "30000/30849 [============================>.] - ETA: 0s - loss: 0.8153 - categorical_accuracy: 0.6154Epoch 00001: val_loss improved from 0.88363 to 0.80145, saving model to models/weights.best.combined.hdf5\n",
      "30849/30849 [==============================] - 19s - loss: 0.8142 - categorical_accuracy: 0.6160 - val_loss: 0.8014 - val_categorical_accuracy: 0.6313\n",
      "Epoch 3/20\n",
      "30000/30849 [============================>.] - ETA: 0s - loss: 0.7632 - categorical_accuracy: 0.6497Epoch 00002: val_loss improved from 0.80145 to 0.77312, saving model to models/weights.best.combined.hdf5\n",
      "30849/30849 [==============================] - 18s - loss: 0.7640 - categorical_accuracy: 0.6491 - val_loss: 0.7731 - val_categorical_accuracy: 0.6482\n",
      "Epoch 4/20\n",
      "30000/30849 [============================>.] - ETA: 0s - loss: 0.7358 - categorical_accuracy: 0.6667Epoch 00003: val_loss improved from 0.77312 to 0.76669, saving model to models/weights.best.combined.hdf5\n",
      "30849/30849 [==============================] - 19s - loss: 0.7362 - categorical_accuracy: 0.6665 - val_loss: 0.7667 - val_categorical_accuracy: 0.6565\n",
      "Epoch 5/20\n",
      "30000/30849 [============================>.] - ETA: 0s - loss: 0.7213 - categorical_accuracy: 0.6748Epoch 00004: val_loss improved from 0.76669 to 0.75616, saving model to models/weights.best.combined.hdf5\n",
      "30849/30849 [==============================] - 18s - loss: 0.7214 - categorical_accuracy: 0.6753 - val_loss: 0.7562 - val_categorical_accuracy: 0.6537\n",
      "Epoch 6/20\n",
      "30000/30849 [============================>.] - ETA: 0s - loss: 0.7004 - categorical_accuracy: 0.6881Epoch 00005: val_loss improved from 0.75616 to 0.74555, saving model to models/weights.best.combined.hdf5\n",
      "30849/30849 [==============================] - 17s - loss: 0.7005 - categorical_accuracy: 0.6884 - val_loss: 0.7456 - val_categorical_accuracy: 0.6631\n",
      "Epoch 7/20\n",
      "30000/30849 [============================>.] - ETA: 0s - loss: 0.6886 - categorical_accuracy: 0.6935Epoch 00006: val_loss did not improve\n",
      "30849/30849 [==============================] - 19s - loss: 0.6888 - categorical_accuracy: 0.6938 - val_loss: 0.7510 - val_categorical_accuracy: 0.6607\n",
      "Epoch 8/20\n",
      "30000/30849 [============================>.] - ETA: 0s - loss: 0.6733 - categorical_accuracy: 0.7024Epoch 00007: val_loss did not improve\n",
      "30849/30849 [==============================] - 19s - loss: 0.6744 - categorical_accuracy: 0.7016 - val_loss: 0.7662 - val_categorical_accuracy: 0.6594\n",
      "Epoch 9/20\n",
      "30000/30849 [============================>.] - ETA: 0s - loss: 0.6626 - categorical_accuracy: 0.7102Epoch 00008: val_loss improved from 0.74555 to 0.74387, saving model to models/weights.best.combined.hdf5\n",
      "30849/30849 [==============================] - 19s - loss: 0.6625 - categorical_accuracy: 0.7104 - val_loss: 0.7439 - val_categorical_accuracy: 0.6672\n",
      "Epoch 10/20\n",
      "30000/30849 [============================>.] - ETA: 0s - loss: 0.6558 - categorical_accuracy: 0.7137Epoch 00009: val_loss improved from 0.74387 to 0.73464, saving model to models/weights.best.combined.hdf5\n",
      "30849/30849 [==============================] - 18s - loss: 0.6564 - categorical_accuracy: 0.7132 - val_loss: 0.7346 - val_categorical_accuracy: 0.6666\n",
      "Epoch 11/20\n",
      "30000/30849 [============================>.] - ETA: 0s - loss: 0.6318 - categorical_accuracy: 0.7294Epoch 00010: val_loss did not improve\n",
      "30849/30849 [==============================] - 20s - loss: 0.6315 - categorical_accuracy: 0.7296 - val_loss: 0.7421 - val_categorical_accuracy: 0.6686\n",
      "Epoch 12/20\n",
      "30000/30849 [============================>.] - ETA: 0s - loss: 0.6343 - categorical_accuracy: 0.7271Epoch 00011: val_loss improved from 0.73464 to 0.73332, saving model to models/weights.best.combined.hdf5\n",
      "30849/30849 [==============================] - 18s - loss: 0.6336 - categorical_accuracy: 0.7280 - val_loss: 0.7333 - val_categorical_accuracy: 0.6708\n",
      "Epoch 13/20\n",
      "30000/30849 [============================>.] - ETA: 0s - loss: 0.6129 - categorical_accuracy: 0.7391Epoch 00012: val_loss did not improve\n",
      "30849/30849 [==============================] - 18s - loss: 0.6128 - categorical_accuracy: 0.7389 - val_loss: 0.7352 - val_categorical_accuracy: 0.6701\n",
      "Epoch 14/20\n",
      "30000/30849 [============================>.] - ETA: 0s - loss: 0.6061 - categorical_accuracy: 0.7435Epoch 00013: val_loss did not improve\n",
      "30849/30849 [==============================] - 19s - loss: 0.6066 - categorical_accuracy: 0.7430 - val_loss: 0.7354 - val_categorical_accuracy: 0.6695\n",
      "Epoch 15/20\n",
      "30000/30849 [============================>.] - ETA: 0s - loss: 0.5998 - categorical_accuracy: 0.7450Epoch 00014: val_loss improved from 0.73332 to 0.73325, saving model to models/weights.best.combined.hdf5\n",
      "30849/30849 [==============================] - 18s - loss: 0.5996 - categorical_accuracy: 0.7452 - val_loss: 0.7333 - val_categorical_accuracy: 0.6754\n",
      "Epoch 16/20\n",
      "30000/30849 [============================>.] - ETA: 0s - loss: 0.5858 - categorical_accuracy: 0.7548Epoch 00015: val_loss did not improve\n",
      "30849/30849 [==============================] - 19s - loss: 0.5853 - categorical_accuracy: 0.7553 - val_loss: 0.7405 - val_categorical_accuracy: 0.6752\n",
      "Epoch 17/20\n",
      "30000/30849 [============================>.] - ETA: 0s - loss: 0.5784 - categorical_accuracy: 0.7609Epoch 00016: val_loss did not improve\n",
      "30849/30849 [==============================] - 18s - loss: 0.5776 - categorical_accuracy: 0.7610 - val_loss: 0.7355 - val_categorical_accuracy: 0.6741\n",
      "Epoch 18/20\n",
      "30000/30849 [============================>.] - ETA: 0s - loss: 0.5717 - categorical_accuracy: 0.7616Epoch 00017: val_loss did not improve\n",
      "30849/30849 [==============================] - 17s - loss: 0.5721 - categorical_accuracy: 0.7613 - val_loss: 0.7388 - val_categorical_accuracy: 0.6695\n",
      "Epoch 19/20\n",
      "30000/30849 [============================>.] - ETA: 0s - loss: 0.5588 - categorical_accuracy: 0.7695Epoch 00018: val_loss did not improve\n",
      "30849/30849 [==============================] - 19s - loss: 0.5596 - categorical_accuracy: 0.7696 - val_loss: 0.7604 - val_categorical_accuracy: 0.6633\n",
      "Epoch 20/20\n",
      "30000/30849 [============================>.] - ETA: 0s - loss: 0.5478 - categorical_accuracy: 0.7757Epoch 00019: val_loss did not improve\n",
      "30849/30849 [==============================] - 18s - loss: 0.5478 - categorical_accuracy: 0.7757 - val_loss: 0.7522 - val_categorical_accuracy: 0.6692\n",
      "_________________________________________________________________\n",
      "Loaded the weights for 'combined' model.\n",
      "\n",
      "_________________________________________________________________\n",
      "SCORES FOR 'combined' MODEL\n",
      "Test Accuracy: 67.8155%\n",
      "F1 Score: 0.6749\n",
      "F1 Scores: [ 0.69775982  0.56971634  0.75492958]\n",
      "=================================================================\n",
      "\n",
      "_________________________________________________________________\n",
      "SCORES FOR 'combined' BENCHMARK MODEL\n",
      "Test Accuracy: 0.3223%\n",
      "F1 Score: 0.3223\n",
      "F1 Scores: [ 0.31375465  0.32042928  0.33249006]\n",
      "=================================================================\n",
      "\n"
     ]
    }
   ],
   "source": [
    "combined_model.fit(combined_X_train, combined_y_train, epochs=20, batch_size=1000)\\\n",
    "              .test(combined_X_test, combined_y_test)\\\n",
    "              .benchmark(combined_X_test, combined_y_test);"
   ]
  },
  {
   "cell_type": "markdown",
   "metadata": {},
   "source": [
    "---\n",
    "\n",
    "## Part 5: Running tests with new sentences\n",
    "\n",
    "![Four example sentences and their predictions from our models. ](images/tests.png)\n",
    "\n",
    "---\n",
    "\n",
    "### Coded version of the above tests"
   ]
  },
  {
   "cell_type": "code",
   "execution_count": 76,
   "metadata": {},
   "outputs": [
    {
     "name": "stdout",
     "output_type": "stream",
     "text": [
      "=================================================================\n",
      "Trying out the sentences on 'facebook' model:\n",
      "\n",
      "TRUE: NEG ----------------------\n",
      "CZ: 'Rozbila se po prvním použití, je na hovno!' is NEG\n",
      "EN: 'It broke after the first use; it's shitty!'\n",
      "\n",
      "TRUE: NEU ----------------------\n",
      "CZ: 'Rozbila se až za rok' is NEU\n",
      "EN: 'It broke after a year of use'\n",
      "\n",
      "TRUE: POS ----------------------\n",
      "CZ: 'S manželem jsme si víkend moc užili' is POS\n",
      "EN: 'Me and my husband really enjoyed the weekend'\n",
      "\n",
      "TRUE: NEU ----------------------\n",
      "CZ: 'Ok, ale nic zajímavého' is NEU\n",
      "EN: 'Ok, but nothing interesting'\n",
      "\n",
      "=================================================================\n",
      "Trying out the sentences on 'csfd' model:\n",
      "\n",
      "TRUE: NEG ----------------------\n",
      "CZ: 'Rozbila se po prvním použití, je na hovno!' is NEG\n",
      "EN: 'It broke after the first use; it's shitty!'\n",
      "\n",
      "TRUE: NEU ----------------------\n",
      "CZ: 'Rozbila se až za rok' is NEG\n",
      "EN: 'It broke after a year of use'\n",
      "\n",
      "TRUE: POS ----------------------\n",
      "CZ: 'S manželem jsme si víkend moc užili' is POS\n",
      "EN: 'Me and my husband really enjoyed the weekend'\n",
      "\n",
      "TRUE: NEU ----------------------\n",
      "CZ: 'Ok, ale nic zajímavého' is NEU\n",
      "EN: 'Ok, but nothing interesting'\n",
      "\n",
      "=================================================================\n",
      "Trying out the sentences on 'mall' model:\n",
      "\n",
      "TRUE: NEG ----------------------\n",
      "CZ: 'Rozbila se po prvním použití, je na hovno!' is POS\n",
      "EN: 'It broke after the first use; it's shitty!'\n",
      "\n",
      "TRUE: NEU ----------------------\n",
      "CZ: 'Rozbila se až za rok' is POS\n",
      "EN: 'It broke after a year of use'\n",
      "\n",
      "TRUE: POS ----------------------\n",
      "CZ: 'S manželem jsme si víkend moc užili' is POS\n",
      "EN: 'Me and my husband really enjoyed the weekend'\n",
      "\n",
      "TRUE: NEU ----------------------\n",
      "CZ: 'Ok, ale nic zajímavého' is NEG\n",
      "EN: 'Ok, but nothing interesting'\n",
      "\n",
      "=================================================================\n",
      "Trying out the sentences on 'combined' model:\n",
      "\n",
      "TRUE: NEG ----------------------\n",
      "CZ: 'Rozbila se po prvním použití, je na hovno!' is NEG\n",
      "EN: 'It broke after the first use; it's shitty!'\n",
      "\n",
      "TRUE: NEU ----------------------\n",
      "CZ: 'Rozbila se až za rok' is NEG\n",
      "EN: 'It broke after a year of use'\n",
      "\n",
      "TRUE: POS ----------------------\n",
      "CZ: 'S manželem jsme si víkend moc užili' is POS\n",
      "EN: 'Me and my husband really enjoyed the weekend'\n",
      "\n",
      "TRUE: NEU ----------------------\n",
      "CZ: 'Ok, ale nic zajímavého' is NEU\n",
      "EN: 'Ok, but nothing interesting'\n",
      "\n"
     ]
    }
   ],
   "source": [
    "trained_models = [\n",
    "    facebook_model,\n",
    "    csfd_model,\n",
    "    mall_model,\n",
    "    combined_model\n",
    "]\n",
    "\n",
    "test_sentences = [\n",
    "    ('Rozbila se po prvním použití, je na hovno!',\n",
    "     'It broke after the first use; it\\'s shitty!',\n",
    "     'NEG'),\n",
    "    ('Rozbila se až za rok',\n",
    "     'It broke after a year of use',\n",
    "     'NEU'),\n",
    "    ('S manželem jsme si víkend moc užili',\n",
    "     'Me and my husband really enjoyed the weekend',\n",
    "     'POS'),\n",
    "    ('Ok, ale nic zajímavého',\n",
    "     'Ok, but nothing interesting',\n",
    "     'NEU')\n",
    "]\n",
    "\n",
    "for i,model in enumerate(trained_models):\n",
    "    print('='*65)\n",
    "    print('Trying out the sentences on \\'{}\\' model:\\n'.format(model.name))\n",
    "    \n",
    "    for sent in test_sentences:\n",
    "        print('TRUE: {} ----------------------\\nCZ: \\'{}\\' is {}\\nEN: \\'{}\\'\\n'\\\n",
    "              .format(sent[2],\n",
    "                      sent[0],\n",
    "                      target_labels[model.predict(sent[0])],\n",
    "                      sent[1])\n",
    "             )"
   ]
  },
  {
   "cell_type": "markdown",
   "metadata": {},
   "source": [
    "---\n",
    "\n",
    "---\n",
    "\n",
    "---"
   ]
  }
 ],
 "metadata": {
  "kernelspec": {
   "display_name": "Python 3",
   "language": "python",
   "name": "python3"
  },
  "language_info": {
   "codemirror_mode": {
    "name": "ipython",
    "version": 3
   },
   "file_extension": ".py",
   "mimetype": "text/x-python",
   "name": "python",
   "nbconvert_exporter": "python",
   "pygments_lexer": "ipython3",
   "version": "3.6.1"
  }
 },
 "nbformat": 4,
 "nbformat_minor": 2
}
